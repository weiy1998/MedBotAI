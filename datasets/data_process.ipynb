{
 "cells": [
  {
   "cell_type": "markdown",
   "metadata": {},
   "source": [
    "date: 2024.10.30  \n",
    "author: weiy  \n",
    "description: 处理医疗问答数据"
   ]
  },
  {
   "cell_type": "code",
   "execution_count": null,
   "metadata": {},
   "outputs": [],
   "source": [
    "import json\n",
    "\n",
    "# 将原始数据处理成问答对格式\n",
    "\n",
    "with open(r'./data/train_data.json', encoding='utf-8') as f:\n",
    "    datas = json.load(f)\n",
    "med_datas = []\n",
    "for data in datas:\n",
    "    data_dict = {}\n",
    "    if len(data) == 2:\n",
    "        med_data = {}\n",
    "        med_data['question'] = data[0].split('病人：')[1]\n",
    "        med_data['answer'] = data[1].split('医生：')[1]\n",
    "        data_dict['conversition'] = [med_data]\n",
    "        med_datas.append(data_dict)\n",
    "        # print(med_datas)\n",
    "    else:\n",
    "        data_dict = {}\n",
    "        multi_data = []\n",
    "        for i in range(0, len(data), 2):\n",
    "            multi_d = {}\n",
    "            multi_d['question'] = data[i].split('病人：')[1]\n",
    "            multi_d['answer'] = data[i+1].split('医生：')[1]\n",
    "            multi_data.append(multi_d)\n",
    "        data_dict['conversition'] = multi_data\n",
    "        med_datas.append(data_dict)\n",
    "        # print(med_datas)\n",
    "        \n",
    "with open(r'./data/med_data_multiQA.json', 'w', encoding='utf-8') as f:\n",
    "    json.dump(med_datas, f, ensure_ascii=False, indent=4)\n",
    "        "
   ]
  },
  {
   "cell_type": "code",
   "execution_count": null,
   "metadata": {},
   "outputs": [],
   "source": []
  },
  {
   "cell_type": "code",
   "execution_count": null,
   "metadata": {},
   "outputs": [],
   "source": []
  }
 ],
 "metadata": {
  "kernelspec": {
   "display_name": "pytorch",
   "language": "python",
   "name": "python3"
  },
  "language_info": {
   "codemirror_mode": {
    "name": "ipython",
    "version": 3
   },
   "file_extension": ".py",
   "mimetype": "text/x-python",
   "name": "python",
   "nbconvert_exporter": "python",
   "pygments_lexer": "ipython3",
   "version": "3.9.13"
  }
 },
 "nbformat": 4,
 "nbformat_minor": 2
}
